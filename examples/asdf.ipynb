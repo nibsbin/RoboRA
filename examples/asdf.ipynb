{
 "cells": [
  {
   "cell_type": "code",
   "execution_count": 1,
   "id": "d0c921f0",
   "metadata": {},
   "outputs": [],
   "source": [
    "import researchq\n",
    "import asyncio\n",
    "from researchq.classes import Question, QuestionSet, Answer\n",
    "from researchq.ask import Workflow\n",
    "from researchq.session_storage import SessionStorageProvider\n",
    "from researchq.mock_query import MockQueryHandler, MockResponseModel\n",
    "from researchq.sonar_query import SonarQueryHandler"
   ]
  },
  {
   "cell_type": "code",
   "execution_count": 2,
   "id": "cac68cfe",
   "metadata": {},
   "outputs": [],
   "source": [
    "query_handler = MockQueryHandler(MockResponseModel)\n",
    "storage_provider = SessionStorageProvider()\n",
    "workflow = Workflow(query_handler=query_handler, storage=storage_provider)"
   ]
  },
  {
   "cell_type": "code",
   "execution_count": 5,
   "id": "86f04f33",
   "metadata": {},
   "outputs": [
    {
     "name": "stdout",
     "output_type": "stream",
     "text": [
      "Found cached response\n",
      "Using cached response\n",
      "QueryResponse(full_response={'choices': [{'message': {'content': '{\"relevance\": 7, \"explanation\": \"This is a mock response demonstrating a moderate cybersecurity level with detailed explanation about security practices and recommendations.\"}'}, 'finish_reason': 'stop'}], 'citations': ['https://mock-security-source1.com', 'https://mock-security-source2.com'], 'search_results': [{'url': 'https://mock-security-source1.com', 'title': 'Mock Cybersecurity Guidelines', 'snippet': 'Essential cybersecurity practices and recommendations...', 'date': '2024-01-15', 'last_updated': '2024-01-15'}, {'url': 'https://mock-security-source2.com', 'title': 'Security Assessment Framework', 'snippet': 'Framework for evaluating cybersecurity posture...', 'date': '2024-01-10', 'last_updated': '2024-01-12'}], 'model': 'mock-model', 'usage': {'prompt_tokens': 100, 'completion_tokens': 50, 'total_tokens': 150}}, error=None)\n",
      "Found cached response\n",
      "Using cached response\n",
      "QueryResponse(full_response={'choices': [{'message': {'content': '{\"relevance\": 7, \"explanation\": \"This is a mock response demonstrating a moderate cybersecurity level with detailed explanation about security practices and recommendations.\"}'}, 'finish_reason': 'stop'}], 'citations': ['https://mock-security-source1.com', 'https://mock-security-source2.com'], 'search_results': [{'url': 'https://mock-security-source1.com', 'title': 'Mock Cybersecurity Guidelines', 'snippet': 'Essential cybersecurity practices and recommendations...', 'date': '2024-01-15', 'last_updated': '2024-01-15'}, {'url': 'https://mock-security-source2.com', 'title': 'Security Assessment Framework', 'snippet': 'Framework for evaluating cybersecurity posture...', 'date': '2024-01-10', 'last_updated': '2024-01-12'}], 'model': 'mock-model', 'usage': {'prompt_tokens': 100, 'completion_tokens': 50, 'total_tokens': 150}}, error=None)\n",
      "Found cached response\n",
      "Using cached response\n",
      "QueryResponse(full_response={'choices': [{'message': {'content': '{\"relevance\": 7, \"explanation\": \"This is a mock response demonstrating a moderate cybersecurity level with detailed explanation about security practices and recommendations.\"}'}, 'finish_reason': 'stop'}], 'citations': ['https://mock-security-source1.com', 'https://mock-security-source2.com'], 'search_results': [{'url': 'https://mock-security-source1.com', 'title': 'Mock Cybersecurity Guidelines', 'snippet': 'Essential cybersecurity practices and recommendations...', 'date': '2024-01-15', 'last_updated': '2024-01-15'}, {'url': 'https://mock-security-source2.com', 'title': 'Security Assessment Framework', 'snippet': 'Framework for evaluating cybersecurity posture...', 'date': '2024-01-10', 'last_updated': '2024-01-12'}], 'model': 'mock-model', 'usage': {'prompt_tokens': 100, 'completion_tokens': 50, 'total_tokens': 150}}, error=None)\n",
      "Found cached response\n",
      "Using cached response\n",
      "QueryResponse(full_response={'choices': [{'message': {'content': '{\"relevance\": 7, \"explanation\": \"This is a mock response demonstrating a moderate cybersecurity level with detailed explanation about security practices and recommendations.\"}'}, 'finish_reason': 'stop'}], 'citations': ['https://mock-security-source1.com', 'https://mock-security-source2.com'], 'search_results': [{'url': 'https://mock-security-source1.com', 'title': 'Mock Cybersecurity Guidelines', 'snippet': 'Essential cybersecurity practices and recommendations...', 'date': '2024-01-15', 'last_updated': '2024-01-15'}, {'url': 'https://mock-security-source2.com', 'title': 'Security Assessment Framework', 'snippet': 'Framework for evaluating cybersecurity posture...', 'date': '2024-01-10', 'last_updated': '2024-01-12'}], 'model': 'mock-model', 'usage': {'prompt_tokens': 100, 'completion_tokens': 50, 'total_tokens': 150}}, error=None)\n",
      "Answer: Answer(question='What is the cybersecurity posture of the NASA in United States?', fields={'relevance': 2, 'explanation': 'Default mock response - unable to parse structured content', 'enriched_citations': [{'url': 'https://mock-security-source1.com', 'title': 'Mock Cybersecurity Guidelines', 'snippet': 'Essential cybersecurity practices and recommendations...', 'date': '2024-01-15', 'last_updated': '2024-01-15', 'matched': True}, {'url': 'https://mock-security-source2.com', 'title': 'Security Assessment Framework', 'snippet': 'Framework for evaluating cybersecurity posture...', 'date': '2024-01-10', 'last_updated': '2024-01-12', 'matched': True}]}, error=None)\n",
      "Answer: Answer(question='What is the cybersecurity posture of the Department of Defense in United States?', fields={'relevance': 2, 'explanation': 'Default mock response - unable to parse structured content', 'enriched_citations': [{'url': 'https://mock-security-source1.com', 'title': 'Mock Cybersecurity Guidelines', 'snippet': 'Essential cybersecurity practices and recommendations...', 'date': '2024-01-15', 'last_updated': '2024-01-15', 'matched': True}, {'url': 'https://mock-security-source2.com', 'title': 'Security Assessment Framework', 'snippet': 'Framework for evaluating cybersecurity posture...', 'date': '2024-01-10', 'last_updated': '2024-01-12', 'matched': True}]}, error=None)\n",
      "Answer: Answer(question='What is the cybersecurity posture of the NASA in Canada?', fields={'relevance': 2, 'explanation': 'Default mock response - unable to parse structured content', 'enriched_citations': [{'url': 'https://mock-security-source1.com', 'title': 'Mock Cybersecurity Guidelines', 'snippet': 'Essential cybersecurity practices and recommendations...', 'date': '2024-01-15', 'last_updated': '2024-01-15', 'matched': True}, {'url': 'https://mock-security-source2.com', 'title': 'Security Assessment Framework', 'snippet': 'Framework for evaluating cybersecurity posture...', 'date': '2024-01-10', 'last_updated': '2024-01-12', 'matched': True}]}, error=None)\n",
      "Answer: Answer(question='What is the cybersecurity posture of the Department of Defense in Canada?', fields={'relevance': 2, 'explanation': 'Default mock response - unable to parse structured content', 'enriched_citations': [{'url': 'https://mock-security-source1.com', 'title': 'Mock Cybersecurity Guidelines', 'snippet': 'Essential cybersecurity practices and recommendations...', 'date': '2024-01-15', 'last_updated': '2024-01-15', 'matched': True}, {'url': 'https://mock-security-source2.com', 'title': 'Security Assessment Framework', 'snippet': 'Framework for evaluating cybersecurity posture...', 'date': '2024-01-10', 'last_updated': '2024-01-12', 'matched': True}]}, error=None)\n"
     ]
    }
   ],
   "source": [
    "\n",
    "question_set = QuestionSet(\n",
    "    template=\"What is the cybersecurity posture of the {organization} in {country}?\",\n",
    "    word_sets={\n",
    "        \"organization\": [\"Department of Defense\", \"NASA\"],\n",
    "        \"country\": [\"United States\", \"Canada\"]\n",
    "    },\n",
    "    response_model=MockResponseModel\n",
    ")\n",
    "async for ans in workflow.ask_questions(question_set):\n",
    "    print(f\"Answer: {ans}\")"
   ]
  },
  {
   "cell_type": "code",
   "execution_count": 4,
   "id": "895d41f3",
   "metadata": {},
   "outputs": [
    {
     "data": {
      "text/plain": [
       "{'What is the cybersecurity posture of the NASA in United States?': QueryResponse(full_response={'choices': [{'message': {'content': '{\"relevance\": 7, \"explanation\": \"This is a mock response demonstrating a moderate cybersecurity level with detailed explanation about security practices and recommendations.\"}'}, 'finish_reason': 'stop'}], 'citations': ['https://mock-security-source1.com', 'https://mock-security-source2.com'], 'search_results': [{'url': 'https://mock-security-source1.com', 'title': 'Mock Cybersecurity Guidelines', 'snippet': 'Essential cybersecurity practices and recommendations...', 'date': '2024-01-15', 'last_updated': '2024-01-15'}, {'url': 'https://mock-security-source2.com', 'title': 'Security Assessment Framework', 'snippet': 'Framework for evaluating cybersecurity posture...', 'date': '2024-01-10', 'last_updated': '2024-01-12'}], 'model': 'mock-model', 'usage': {'prompt_tokens': 100, 'completion_tokens': 50, 'total_tokens': 150}}, error=None),\n",
       " 'What is the cybersecurity posture of the NASA in Canada?': QueryResponse(full_response={'choices': [{'message': {'content': '{\"relevance\": 7, \"explanation\": \"This is a mock response demonstrating a moderate cybersecurity level with detailed explanation about security practices and recommendations.\"}'}, 'finish_reason': 'stop'}], 'citations': ['https://mock-security-source1.com', 'https://mock-security-source2.com'], 'search_results': [{'url': 'https://mock-security-source1.com', 'title': 'Mock Cybersecurity Guidelines', 'snippet': 'Essential cybersecurity practices and recommendations...', 'date': '2024-01-15', 'last_updated': '2024-01-15'}, {'url': 'https://mock-security-source2.com', 'title': 'Security Assessment Framework', 'snippet': 'Framework for evaluating cybersecurity posture...', 'date': '2024-01-10', 'last_updated': '2024-01-12'}], 'model': 'mock-model', 'usage': {'prompt_tokens': 100, 'completion_tokens': 50, 'total_tokens': 150}}, error=None),\n",
       " 'What is the cybersecurity posture of the Department of Defense in United States?': QueryResponse(full_response={'choices': [{'message': {'content': '{\"relevance\": 7, \"explanation\": \"This is a mock response demonstrating a moderate cybersecurity level with detailed explanation about security practices and recommendations.\"}'}, 'finish_reason': 'stop'}], 'citations': ['https://mock-security-source1.com', 'https://mock-security-source2.com'], 'search_results': [{'url': 'https://mock-security-source1.com', 'title': 'Mock Cybersecurity Guidelines', 'snippet': 'Essential cybersecurity practices and recommendations...', 'date': '2024-01-15', 'last_updated': '2024-01-15'}, {'url': 'https://mock-security-source2.com', 'title': 'Security Assessment Framework', 'snippet': 'Framework for evaluating cybersecurity posture...', 'date': '2024-01-10', 'last_updated': '2024-01-12'}], 'model': 'mock-model', 'usage': {'prompt_tokens': 100, 'completion_tokens': 50, 'total_tokens': 150}}, error=None),\n",
       " 'What is the cybersecurity posture of the Department of Defense in Canada?': QueryResponse(full_response={'choices': [{'message': {'content': '{\"relevance\": 7, \"explanation\": \"This is a mock response demonstrating a moderate cybersecurity level with detailed explanation about security practices and recommendations.\"}'}, 'finish_reason': 'stop'}], 'citations': ['https://mock-security-source1.com', 'https://mock-security-source2.com'], 'search_results': [{'url': 'https://mock-security-source1.com', 'title': 'Mock Cybersecurity Guidelines', 'snippet': 'Essential cybersecurity practices and recommendations...', 'date': '2024-01-15', 'last_updated': '2024-01-15'}, {'url': 'https://mock-security-source2.com', 'title': 'Security Assessment Framework', 'snippet': 'Framework for evaluating cybersecurity posture...', 'date': '2024-01-10', 'last_updated': '2024-01-12'}], 'model': 'mock-model', 'usage': {'prompt_tokens': 100, 'completion_tokens': 50, 'total_tokens': 150}}, error=None)}"
      ]
     },
     "execution_count": 4,
     "metadata": {},
     "output_type": "execute_result"
    }
   ],
   "source": [
    "storage_provider.get_all_responses()"
   ]
  }
 ],
 "metadata": {
  "kernelspec": {
   "display_name": ".venv",
   "language": "python",
   "name": "python3"
  },
  "language_info": {
   "codemirror_mode": {
    "name": "ipython",
    "version": 3
   },
   "file_extension": ".py",
   "mimetype": "text/x-python",
   "name": "python",
   "nbconvert_exporter": "python",
   "pygments_lexer": "ipython3",
   "version": "3.13.7"
  }
 },
 "nbformat": 4,
 "nbformat_minor": 5
}
