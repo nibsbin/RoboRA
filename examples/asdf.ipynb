{
 "cells": [
  {
   "cell_type": "code",
   "execution_count": 1,
   "id": "d0c921f0",
   "metadata": {},
   "outputs": [],
   "source": [
    "import robora\n",
    "import asyncio\n",
    "from robora.classes import Question, QuestionSet, Answer\n",
    "from robora.workflow import Workflow\n",
    "from robora.session_storage import SessionStorageProvider\n",
    "from robora.mock_query import MockQueryHandler, MockResponseModel\n",
    "from robora.sonar_query import SonarQueryHandler"
   ]
  },
  {
   "cell_type": "code",
   "execution_count": 2,
   "id": "cac68cfe",
   "metadata": {},
   "outputs": [],
   "source": [
    "query_handler = MockQueryHandler(MockResponseModel)\n",
    "storage_provider = SessionStorageProvider()\n",
    "workflow = Workflow(query_handler=query_handler, storage=storage_provider)"
   ]
  },
  {
   "cell_type": "code",
   "execution_count": 3,
   "id": "86f04f33",
   "metadata": {},
   "outputs": [
    {
     "name": "stdout",
     "output_type": "stream",
     "text": [
      "Answer: Answer(question='What is the cybersecurity posture of the NASA in United States?', fields={'relevance': 2, 'explanation': 'Default mock response - unable to parse structured content', 'enriched_citations': [{'url': 'https://mock-security-source1.com', 'title': 'Mock Cybersecurity Guidelines', 'snippet': 'Essential cybersecurity practices and recommendations...', 'date': '2024-01-15', 'last_updated': '2024-01-15', 'matched': True}, {'url': 'https://mock-security-source2.com', 'title': 'Security Assessment Framework', 'snippet': 'Framework for evaluating cybersecurity posture...', 'date': '2024-01-10', 'last_updated': '2024-01-12', 'matched': True}]}, error=None)\n",
      "Answer: Answer(question='What is the cybersecurity posture of the Department of Defense in United States?', fields={'relevance': 2, 'explanation': 'Default mock response - unable to parse structured content', 'enriched_citations': [{'url': 'https://mock-security-source1.com', 'title': 'Mock Cybersecurity Guidelines', 'snippet': 'Essential cybersecurity practices and recommendations...', 'date': '2024-01-15', 'last_updated': '2024-01-15', 'matched': True}, {'url': 'https://mock-security-source2.com', 'title': 'Security Assessment Framework', 'snippet': 'Framework for evaluating cybersecurity posture...', 'date': '2024-01-10', 'last_updated': '2024-01-12', 'matched': True}]}, error=None)\n",
      "Answer: Answer(question='What is the cybersecurity posture of the NASA in Canada?', fields={'relevance': 2, 'explanation': 'Default mock response - unable to parse structured content', 'enriched_citations': [{'url': 'https://mock-security-source1.com', 'title': 'Mock Cybersecurity Guidelines', 'snippet': 'Essential cybersecurity practices and recommendations...', 'date': '2024-01-15', 'last_updated': '2024-01-15', 'matched': True}, {'url': 'https://mock-security-source2.com', 'title': 'Security Assessment Framework', 'snippet': 'Framework for evaluating cybersecurity posture...', 'date': '2024-01-10', 'last_updated': '2024-01-12', 'matched': True}]}, error=None)\n",
      "Answer: Answer(question='What is the cybersecurity posture of the Department of Defense in Canada?', fields={'relevance': 2, 'explanation': 'Default mock response - unable to parse structured content', 'enriched_citations': [{'url': 'https://mock-security-source1.com', 'title': 'Mock Cybersecurity Guidelines', 'snippet': 'Essential cybersecurity practices and recommendations...', 'date': '2024-01-15', 'last_updated': '2024-01-15', 'matched': True}, {'url': 'https://mock-security-source2.com', 'title': 'Security Assessment Framework', 'snippet': 'Framework for evaluating cybersecurity posture...', 'date': '2024-01-10', 'last_updated': '2024-01-12', 'matched': True}]}, error=None)\n"
     ]
    }
   ],
   "source": [
    "\n",
    "question_set = QuestionSet(\n",
    "    template=\"What is the cybersecurity posture of the {organization} in {country}?\",\n",
    "    word_sets={\n",
    "        \"organization\": [\"Department of Defense\", \"NASA\"],\n",
    "        \"country\": [\"United States\", \"Canada\"]\n",
    "    },\n",
    "    response_model=MockResponseModel\n",
    ")\n",
    "async for ans in workflow.ask_multiple(question_set):\n",
    "    print(f\"Answer: {ans}\")"
   ]
  },
  {
   "cell_type": "code",
   "execution_count": 4,
   "id": "34ed1392",
   "metadata": {},
   "outputs": [],
   "source": [
    "async for question in storage_provider.get_stored_questions():\n",
    "    response = await storage_provider.get_response(question)\n"
   ]
  },
  {
   "cell_type": "code",
   "execution_count": 5,
   "id": "4891ae82",
   "metadata": {},
   "outputs": [],
   "source": [
    "answers = [x async for x in workflow.dump_answers()]\n"
   ]
  },
  {
   "cell_type": "code",
   "execution_count": 6,
   "id": "e21e83be",
   "metadata": {},
   "outputs": [
    {
     "data": {
      "text/html": [
       "<div>\n",
       "<style scoped>\n",
       "    .dataframe tbody tr th:only-of-type {\n",
       "        vertical-align: middle;\n",
       "    }\n",
       "\n",
       "    .dataframe tbody tr th {\n",
       "        vertical-align: top;\n",
       "    }\n",
       "\n",
       "    .dataframe thead th {\n",
       "        text-align: right;\n",
       "    }\n",
       "</style>\n",
       "<table border=\"1\" class=\"dataframe\">\n",
       "  <thead>\n",
       "    <tr style=\"text-align: right;\">\n",
       "      <th></th>\n",
       "      <th>question</th>\n",
       "      <th>error</th>\n",
       "      <th>organization</th>\n",
       "      <th>country</th>\n",
       "      <th>relevance</th>\n",
       "      <th>explanation</th>\n",
       "      <th>enriched_citations</th>\n",
       "    </tr>\n",
       "  </thead>\n",
       "  <tbody>\n",
       "    <tr>\n",
       "      <th>0</th>\n",
       "      <td>What is the cybersecurity posture of the NASA ...</td>\n",
       "      <td>None</td>\n",
       "      <td>NASA</td>\n",
       "      <td>United States</td>\n",
       "      <td>2</td>\n",
       "      <td>Default mock response - unable to parse struct...</td>\n",
       "      <td>[{'url': 'https://mock-security-source1.com', ...</td>\n",
       "    </tr>\n",
       "  </tbody>\n",
       "</table>\n",
       "</div>"
      ],
      "text/plain": [
       "                                            question error organization  \\\n",
       "0  What is the cybersecurity posture of the NASA ...  None         NASA   \n",
       "\n",
       "         country  relevance  \\\n",
       "0  United States          2   \n",
       "\n",
       "                                         explanation  \\\n",
       "0  Default mock response - unable to parse struct...   \n",
       "\n",
       "                                  enriched_citations  \n",
       "0  [{'url': 'https://mock-security-source1.com', ...  "
      ]
     },
     "execution_count": 6,
     "metadata": {},
     "output_type": "execute_result"
    }
   ],
   "source": [
    "answers[0].flattened"
   ]
  }
 ],
 "metadata": {
  "kernelspec": {
   "display_name": ".venv",
   "language": "python",
   "name": "python3"
  },
  "language_info": {
   "codemirror_mode": {
    "name": "ipython",
    "version": 3
   },
   "file_extension": ".py",
   "mimetype": "text/x-python",
   "name": "python",
   "nbconvert_exporter": "python",
   "pygments_lexer": "ipython3",
   "version": "3.13.7"
  }
 },
 "nbformat": 4,
 "nbformat_minor": 5
}
